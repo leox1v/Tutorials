{
  "nbformat": 4,
  "nbformat_minor": 0,
  "metadata": {
    "colab": {
      "name": "Untitled6.ipynb",
      "version": "0.3.2",
      "provenance": [],
      "toc_visible": true,
      "include_colab_link": true
    },
    "kernelspec": {
      "name": "python3",
      "display_name": "Python 3"
    }
  },
  "cells": [
    {
      "cell_type": "markdown",
      "metadata": {
        "id": "view-in-github",
        "colab_type": "text"
      },
      "source": [
        "<a href=\"https://colab.research.google.com/github/leox1v/Tutorials/blob/master/SumBasic.ipynb\" target=\"_parent\"><img src=\"https://colab.research.google.com/assets/colab-badge.svg\" alt=\"Open In Colab\"/></a>"
      ]
    },
    {
      "metadata": {
        "id": "OtgcM1S43ldI",
        "colab_type": "code",
        "colab": {}
      },
      "cell_type": "code",
      "source": [
        "import numpy as np\n",
        "article = \"The back pain was excruciating at times, but nothing like the shame. Tiger Woods had built his own legacy and then knocked it down himself. The awkward public confession of serial infidelity. The police mugshot and videos of a bloated, dazed and confused Woods after his arrest for driving under the influence. He knew, deep down, he was one of the greats, but his kids could only guess. Woods was desperate to show them what the old man could do -- had done -- but his ailing body wouldn't let him. Even that may have been partly his fault after his punishing weights and fitness regime and fixation on US Navy Seal training, as revealed by former coach Hank Haney in his book The Big Miss. Woods had plenty of injuries before, including multiple knee rebuilds, but he returned from those. But the back was threatening to take him down. At times, he says, he couldn't walk, couldn't sit, couldn't lie down. He missed golf, but most of all he missed playing and fooling around with his children, Sam and Charlie. Of his career, they knew him only as a star on YouTube. But after an epic Sunday at Augusta, Woods fulfilled two dreams. To get back to the top of a game he had dominated for so long, and to make his kids proud. It means the world to me just to have them there, and then now to have them see their Pops win, just like my Pops saw me win here, it's pretty special, he said. Woods' fifth Green Jacket and 15th major title has given the game of golf a serious jolt of electricity. Many of the game's top stars grew up inspired by Woods. Rory McIlroy even wrote him a letter as a golf-obsessed nine-year-old. The young guns never got to witness Woods in his early 2000s pomp. Then, he trounced fields, intimidated rivals with his sheer presence and prowess and pulled off feats most deemed superhuman. Some of the game's younger stars have opined they would have loved to have competed against Woods in full flow. The hell they would, said former world No.1 David Duval, who tasted defeat at the hands of Woods too often. Now they have, and golf's richer for it. American pro Brandt Snedeker, a nine-time winner on the PGA Tour, summed up Woods' effect on the game. I don't know what else to say other than thank you Tiger Woods, he tweeted. You inspired my generation. You had a bunch of dads reliving their youths with their kids. You inspired another. The Masters brings out the best in golf and the best in the greats of the game. Three-time major champion Brooks Koepka, 28, who finished tied second Sunday, added: The atmosphere around Tiger is mind blowing and to be inside the ropes and just kind of see it as another player is pretty cool and unique. Woods had his own inspiration in Jack Nicklaus, and it's been his life's goal to beat his fellow American's mark of 18 major titles. During the dark days, and the sad images of a washed-up, fading star, many scoffed at the notion of Woods ever winning another event, let alone a major. He even confided to Nicklaus at the pre-Masters Champions Dinner a couple of years ago he was done. But the competitor in Woods wouldn't -- couldn't -- let it go. You never give up. You always fight. Just giving up's never in the equation, he said. We wake up every morning, and there's always challenges in front of us, and [we have to] keep fighting and keep getting through. Very few people really know what Tiger Woods has been through to get back to this point, McIlroy, who has become close to Woods in recent years, tweeted Sunday. Now he's just three behind Nicklaus and with his ship pointed squarely at the next major. May's US PGA just happens to be at the infamous Bethpage Black on Long Island, New York, scene of Woods' 2002 US Open triumph. He won the Masters that year, too. And in June, the US Open returns to Pebble Beach in California, where Woods won his first US Open by an astonishing 15 shots, sparking a remarkable run where he held all four majors at the same time. Nicklaus' record is on the line. I felt for a long time he was going to win again. He's got me shaking in my boots, guys, said the 79-year-old Sunday. Nicklaus won his final major at the age of 46 at the 1986 Masters after a gap of six years, so Woods has time on his side. The oldest major winner in the modern era, 1968 US PGA champion Julius Boros, was 48. There's 19 majors until Woods turns 48. Woods' long-time rival Phil Mickelson is still contending -- he was tied 18th at Augusta -- and he turns 49 in June. I think 18 [majors] is a lot closer than people think, added Koepka, who held off the charging Woods to win the US PGA last August. While majors are the generalist barometer to measure success in golf, another goal driving Woods is to beat Sam Snead's record of 82 PGA Tour wins. He's now just one away from tying his countryman. Woods pointed to other sports stars still excelling despite advancing years such as 37-year-old tennis great Roger Federer and six-time Super bowl winner Tom Brady, 41. The understanding of the general science of sports performance has allowed athletes to push their primes into much later stages, said Woods. As we get older, it sucks hopping in those ice baths, but it's just part of the deal. This new era of Woods' career also seems to have brought about a new era in the man. Where once he was the supreme being, his failings have taught him humility. The teachings of his late father and mentor Earl, once lost in a fog of waywardness, have resurfaced. Woods has long given back to the game and to society through his Tiger Woods Foundation, but he is widely reported to be more open, more engaging with his fans, more willing to show a different side to the cold-hearted competitor. Up to a point, anyway. He wanted to be different. He was aloof, said Europe's Ryder Cup captain Padraig Harrington, a three-time major champion, talking to BBC Sport. Since he's come back to the sport he hangs out more, he wants to enjoy the life.\"\n",
        "\n",
        "# basic cleaning\n",
        "for c in ',\"':\n",
        "    article = article.replace(c, '')\n",
        "for c in '?!:':\n",
        "    article = article.replace(c, '.')\n",
        "article = article.split('.')[:-1]"
      ],
      "execution_count": 0,
      "outputs": []
    },
    {
      "metadata": {
        "id": "0rlvyUV94ush",
        "colab_type": "text"
      },
      "cell_type": "markdown",
      "source": [
        "# SumBasic\n"
      ]
    },
    {
      "metadata": {
        "id": "1x_p9HOM4wIT",
        "colab_type": "code",
        "colab": {}
      },
      "cell_type": "code",
      "source": [
        ""
      ],
      "execution_count": 0,
      "outputs": []
    }
  ]
}